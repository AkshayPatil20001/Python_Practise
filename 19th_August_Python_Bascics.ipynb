{
 "cells": [
  {
   "cell_type": "markdown",
   "id": "a77c7d76",
   "metadata": {},
   "source": [
    "## TOPIC: Python Basics Variable\n"
   ]
  },
  {
   "cell_type": "markdown",
   "id": "5a3125d1",
   "metadata": {},
   "source": [
    "### 1. Declare two variables, `x` and `y`, and assign them integer values.Swap the values of these variables without using any temporary variable."
   ]
  },
  {
   "cell_type": "code",
   "execution_count": null,
   "id": "966d36fe",
   "metadata": {},
   "outputs": [],
   "source": [
    "x=10\n",
    "y=20\n",
    "print(\"Before swapping values are x=\", x, \" and y=\", y)\n",
    "x=20\n",
    "y=10\n",
    "print(\"After swapping values are x=\", x, \" and y=\", y)\n"
   ]
  },
  {
   "cell_type": "markdown",
   "id": "bc7c4531",
   "metadata": {},
   "source": [
    "### 2. Create a program that calculates the area of a rectangle. Take the length and width as inputs from the user and store them in variables.Calculate and display the area.\n",
    "\n"
   ]
  },
  {
   "cell_type": "code",
   "execution_count": 6,
   "id": "dacd4378",
   "metadata": {},
   "outputs": [
    {
     "name": "stdout",
     "output_type": "stream",
     "text": [
      "Enter the length: 45\n",
      "Enter the breadth: 30\n",
      "Area of rectangle is  1350\n"
     ]
    }
   ],
   "source": [
    "length=int(input(\"Enter the length: \"))\n",
    "breadth=int(input(\"Enter the breadth: \"))\n",
    "print(\"Area of rectangle is \", length*breadth)"
   ]
  },
  {
   "cell_type": "markdown",
   "id": "ab5f0ca5",
   "metadata": {},
   "source": [
    "### 3. Write a Python program that converts temperature from Celsius to Fahrenheit. Take the temperature in Celsius as input, store it in a variable, convert it to Fahrenheit, and display the result.\n",
    "\n"
   ]
  },
  {
   "cell_type": "code",
   "execution_count": 8,
   "id": "cba60bf0",
   "metadata": {},
   "outputs": [
    {
     "name": "stdout",
     "output_type": "stream",
     "text": [
      "Enter the temperature in Celsius: 8\n",
      "The temperature in Fahrenhetit is  46.4\n"
     ]
    }
   ],
   "source": [
    "temp=float(input(\"Enter the temperature in Celsius: \"))\n",
    "fah=(temp*9/5)+32\n",
    "print(\"The temperature in Fahrenhetit is \", fah)"
   ]
  },
  {
   "cell_type": "code",
   "execution_count": null,
   "id": "c01049cd",
   "metadata": {},
   "outputs": [],
   "source": []
  },
  {
   "cell_type": "markdown",
   "id": "0d7f2847",
   "metadata": {},
   "source": [
    "## TOPIC: String Based Questions"
   ]
  },
  {
   "cell_type": "markdown",
   "id": "24d4c795",
   "metadata": {},
   "source": [
    "### 1. Write a Python program that takes a string as input and prints the length of the string.\n"
   ]
  },
  {
   "cell_type": "code",
   "execution_count": 9,
   "id": "8c10c234",
   "metadata": {},
   "outputs": [
    {
     "name": "stdout",
     "output_type": "stream",
     "text": [
      "Enter the string: akshay\n",
      "The length of the string is  6\n"
     ]
    }
   ],
   "source": [
    "a=input(\"Enter the string: \")\n",
    "print(\"The length of the string is \", len(a))"
   ]
  },
  {
   "cell_type": "markdown",
   "id": "67fb67ab",
   "metadata": {},
   "source": [
    "### 2. Create a program that takes a sentence from the user and counts the number of vowels (a, e, i, o, u) in the string.\n"
   ]
  },
  {
   "cell_type": "code",
   "execution_count": null,
   "id": "7091dc4a",
   "metadata": {},
   "outputs": [],
   "source": [
    "b=input(\"Enter the sentence: \")\n"
   ]
  },
  {
   "cell_type": "markdown",
   "id": "26a086fc",
   "metadata": {},
   "source": [
    "### 3. Given a string, reverse the order of characters using string slicing and print the reversed string.\n"
   ]
  },
  {
   "cell_type": "code",
   "execution_count": 10,
   "id": "32e0bdb2",
   "metadata": {},
   "outputs": [
    {
     "name": "stdout",
     "output_type": "stream",
     "text": [
      "Reversed string is  llufituaeb\n"
     ]
    }
   ],
   "source": [
    "x='beautifull'\n",
    "print(\"Reversed string is \", x[::-1])"
   ]
  },
  {
   "cell_type": "markdown",
   "id": "1c6ecaec",
   "metadata": {},
   "source": [
    "### 4. Write a program that takes a string as input and checks if it is a palindrome (reads the same forwards and backwards).\n"
   ]
  },
  {
   "cell_type": "code",
   "execution_count": 13,
   "id": "5ba4f7c6",
   "metadata": {},
   "outputs": [
    {
     "name": "stdout",
     "output_type": "stream",
     "text": [
      "Enter the string: naman\n",
      "Sting is pallindrome.\n"
     ]
    }
   ],
   "source": [
    "z=input(\"Enter the string: \")\n",
    "if(z==z[::-1]):\n",
    "    print(\"Sting is pallindrome.\")\n",
    "else:\n",
    "    print(\"Not pallindrome\")\n",
    "\n"
   ]
  },
  {
   "cell_type": "markdown",
   "id": "b88bf846",
   "metadata": {},
   "source": [
    "### 5. Create a program that takes a string as input and removes all the spaces from it. Print the modified string without spaces.\n"
   ]
  },
  {
   "cell_type": "code",
   "execution_count": 16,
   "id": "a4f06ab4",
   "metadata": {},
   "outputs": [
    {
     "name": "stdout",
     "output_type": "stream",
     "text": [
      "Enter a sentence: you are nice person\n",
      "Modified string: youareniceperson\n"
     ]
    }
   ],
   "source": [
    "text= input(\"Enter a sentence: \")\n",
    "modified_text = text.replace(\" \", \"\")  # replace method is to replace white space eitho no space\n",
    "print(\"Modified string:\", modified_text)"
   ]
  },
  {
   "cell_type": "code",
   "execution_count": null,
   "id": "a7e00cf1",
   "metadata": {},
   "outputs": [],
   "source": []
  }
 ],
 "metadata": {
  "kernelspec": {
   "display_name": "Python 3 (ipykernel)",
   "language": "python",
   "name": "python3"
  },
  "language_info": {
   "codemirror_mode": {
    "name": "ipython",
    "version": 3
   },
   "file_extension": ".py",
   "mimetype": "text/x-python",
   "name": "python",
   "nbconvert_exporter": "python",
   "pygments_lexer": "ipython3",
   "version": "3.11.3"
  }
 },
 "nbformat": 4,
 "nbformat_minor": 5
}
