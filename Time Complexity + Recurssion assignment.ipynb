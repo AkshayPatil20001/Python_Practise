{
 "cells": [
  {
   "cell_type": "markdown",
   "id": "6c07d326",
   "metadata": {},
   "source": [
    "# Find time complexity of below code blocks :"
   ]
  },
  {
   "cell_type": "markdown",
   "id": "eec204c9",
   "metadata": {},
   "source": [
    "### Problem 1"
   ]
  },
  {
   "cell_type": "code",
   "execution_count": null,
   "id": "7b43c342",
   "metadata": {},
   "outputs": [],
   "source": [
    " def quicksort(arr):\n",
    "    if len(arr) <= 1:\n",
    "        return arr\n",
    "    pivot = arr[len(arr) // 2]\n",
    "    left = [x for x in arr if x < pivot]\n",
    "    middle = [x for x in arr if x == pivot]\n",
    "    right = [x for x in arr if x > pivot]\n",
    "    return quicksort(left) + middle + quicksort(right)\n",
    "    \n",
    "------------------------->ANSWER<--------------------------------------------  \n",
    "\n",
    "Time Complexity: Worst case O(n^2)"
   ]
  },
  {
   "cell_type": "code",
   "execution_count": null,
   "id": "b1ae7733",
   "metadata": {},
   "outputs": [],
   "source": []
  },
  {
   "cell_type": "markdown",
   "id": "267222a5",
   "metadata": {},
   "source": [
    "### Problem 2"
   ]
  },
  {
   "cell_type": "code",
   "execution_count": null,
   "id": "98e93911",
   "metadata": {},
   "outputs": [],
   "source": [
    "def nested_loop_example(matrix):\n",
    "    rows, cols = len(matrix), len(matrix[0])\n",
    "    total = 0\n",
    "    for i in range(rows):\n",
    "        for j in range(cols):\n",
    "        total += matrix[i][j]\n",
    "    return total\n",
    "    \n",
    "------------------------->ANSWER<--------------------------------------------  \n",
    "\n",
    "Time Complexity: Worst case O(n^2)"
   ]
  },
  {
   "cell_type": "code",
   "execution_count": null,
   "id": "342a046a",
   "metadata": {},
   "outputs": [],
   "source": []
  },
  {
   "cell_type": "markdown",
   "id": "21953f04",
   "metadata": {},
   "source": [
    "### Problem 3"
   ]
  },
  {
   "cell_type": "code",
   "execution_count": null,
   "id": "093e581f",
   "metadata": {},
   "outputs": [],
   "source": [
    "def example_function(arr):\n",
    "    result = 0\n",
    "    for element in arr:\n",
    "        result += element\n",
    "    return result\n",
    "    \n",
    "------------------------->ANSWER<--------------------------------------------  \n",
    "\n",
    "Time Complexity: Worst case O(n)"
   ]
  },
  {
   "cell_type": "code",
   "execution_count": null,
   "id": "b74f6bb7",
   "metadata": {},
   "outputs": [],
   "source": []
  },
  {
   "cell_type": "markdown",
   "id": "3bfa62ed",
   "metadata": {},
   "source": [
    "### Problem 4"
   ]
  },
  {
   "cell_type": "code",
   "execution_count": null,
   "id": "e8c610a6",
   "metadata": {},
   "outputs": [],
   "source": [
    "def longest_increasing_subsequence(nums):\n",
    "    n = len(nums)\n",
    "    lis = [1] * n\n",
    "    for i in range(1, n):\n",
    "        for j in range(0, i):\n",
    "        if nums[i] > nums[j] and lis[i] < lis[j] + 1:\n",
    "            lis[i] = lis[j] + 1\n",
    "    return max(lis)\n",
    "    \n",
    "------------------------->ANSWER<--------------------------------------------  \n",
    "\n",
    "Time Complexity: Worst case O(n^2)"
   ]
  },
  {
   "cell_type": "code",
   "execution_count": null,
   "id": "24d48c8f",
   "metadata": {},
   "outputs": [],
   "source": []
  },
  {
   "cell_type": "markdown",
   "id": "6252ab1e",
   "metadata": {},
   "source": [
    "### Problem 5"
   ]
  },
  {
   "cell_type": "code",
   "execution_count": null,
   "id": "c4bef112",
   "metadata": {},
   "outputs": [],
   "source": [
    "def mysterious_function(arr):\n",
    "    n = len(arr)\n",
    "    result = 0\n",
    "    for i in range(n):\n",
    "        for j in range(i, n):\n",
    "            result += arr[i] * arr[j]\n",
    "    return result\n",
    "    \n",
    "------------------------->ANSWER<--------------------------------------------  \n",
    "\n",
    "Time Complexity: Worst case O(n^2)"
   ]
  },
  {
   "cell_type": "code",
   "execution_count": null,
   "id": "82fae1b2",
   "metadata": {},
   "outputs": [],
   "source": []
  },
  {
   "cell_type": "code",
   "execution_count": null,
   "id": "b5e94aa0",
   "metadata": {},
   "outputs": [],
   "source": []
  },
  {
   "cell_type": "markdown",
   "id": "0ee5ab92",
   "metadata": {},
   "source": [
    "# Solve the following problems on recursion"
   ]
  },
  {
   "cell_type": "markdown",
   "id": "f38e8391",
   "metadata": {},
   "source": [
    "### Problem 6 : Sum of Digits\n",
    "Write a recursive function to calculate the sum of digits of a given positive integer.\n",
    "sum_of_digits(123) -> 6"
   ]
  },
  {
   "cell_type": "code",
   "execution_count": 2,
   "id": "bb027cb2",
   "metadata": {},
   "outputs": [
    {
     "name": "stdout",
     "output_type": "stream",
     "text": [
      "Sum of digits in 123456 is 21\n"
     ]
    }
   ],
   "source": [
    "def sum_of_digits( n ):\n",
    "    if n == 0:\n",
    "        return 0\n",
    "    return (n % 10 + sum_of_digits(int(n / 10)))\n",
    "\n",
    "num = 123456\n",
    "result = sum_of_digits(num)\n",
    "print(\"Sum of digits in\",num,\"is\", result)"
   ]
  },
  {
   "cell_type": "code",
   "execution_count": null,
   "id": "6012844a",
   "metadata": {},
   "outputs": [],
   "source": []
  },
  {
   "cell_type": "markdown",
   "id": "2f7b94fe",
   "metadata": {},
   "source": [
    "### Problem 7: Fibonacci Series\n",
    "Write a recursive function to generate the first n numbers of the Fibonacci series.\n",
    "fibonacci_series(6) -> [0, 1, 1, 2, 3, 5]"
   ]
  },
  {
   "cell_type": "code",
   "execution_count": 3,
   "id": "40a8b799",
   "metadata": {},
   "outputs": [
    {
     "name": "stdout",
     "output_type": "stream",
     "text": [
      "0 1 1 2 3 5 8 "
     ]
    }
   ],
   "source": [
    "def fibonacci_numbers(num):\n",
    "    if num == 0:\n",
    "        return 0\n",
    "    elif num == 1:\n",
    "        return 1\n",
    "    else:\n",
    "        # printing fibonacci numbers\n",
    "        return fibonacci_numbers(num-2)+fibonacci_numbers(num-1)\n",
    "\n",
    "n = 7\n",
    "for i in range(0, n):\n",
    "    print(fibonacci_numbers(i), end=\" \")"
   ]
  },
  {
   "cell_type": "code",
   "execution_count": null,
   "id": "e1839c83",
   "metadata": {},
   "outputs": [],
   "source": []
  },
  {
   "cell_type": "markdown",
   "id": "29da1b4c",
   "metadata": {},
   "source": [
    "### Problem 8 : Subset Sum\n",
    "Given a set of positive integers and a target sum, write a recursive function to determine if there exists a subset\n",
    "of the integers that adds up to the target sum.\n",
    "subset_sum([3, 34, 4, 12, 5, 2], 9) -> True"
   ]
  },
  {
   "cell_type": "code",
   "execution_count": 6,
   "id": "8297ceec",
   "metadata": {},
   "outputs": [
    {
     "name": "stdout",
     "output_type": "stream",
     "text": [
      "True\n"
     ]
    }
   ],
   "source": [
    "def isSubsetSum(set, n, sum):\n",
    "    if (sum == 0):\n",
    "        return True\n",
    "    if (n == 0):\n",
    "        return False\n",
    "\n",
    "    # If last element is greater than\n",
    "    # sum, then ignore it\n",
    "    if (set[n - 1] > sum):\n",
    "        return isSubsetSum(set, n - 1, sum)\n",
    "\n",
    "    # Else, check if sum can be obtained\n",
    "    # by any of the following\n",
    "    # (a) including the last element\n",
    "    # (b) excluding the last element\n",
    "    return isSubsetSum(\n",
    "        set, n-1, sum) or isSubsetSum(\n",
    "        set, n-1, sum-set[n-1])\n",
    "\n",
    "print(isSubsetSum([3, 34, 4, 12, 5, 2], 6 , 9))"
   ]
  },
  {
   "cell_type": "code",
   "execution_count": null,
   "id": "a1e6e024",
   "metadata": {},
   "outputs": [],
   "source": []
  },
  {
   "cell_type": "markdown",
   "id": "b9d6514d",
   "metadata": {},
   "source": [
    "### Problem 9: Word Break\n",
    "Given a non-empty string and a dictionary of words, write a recursive function to determine if the string can be\n",
    "segmented into a space-separated sequence of dictionary words.\n",
    "word_break( leetcode , [ leet , code ]) -> True"
   ]
  },
  {
   "cell_type": "code",
   "execution_count": 8,
   "id": "27e2937a",
   "metadata": {},
   "outputs": [
    {
     "name": "stdout",
     "output_type": "stream",
     "text": [
      "False\n"
     ]
    }
   ],
   "source": [
    "def wordBreak(wordList, word):\n",
    "    if word == '':\n",
    "        return True\n",
    "    else:\n",
    "        wordLen = len(word)\n",
    "        for i in range(1,wordLen+1):\n",
    "          if word[:i] in wordList and wordBreak(wordList, word[i:]):\n",
    "            return True\n",
    "        return False\n",
    "\n",
    "print(wordBreak( [\"leet\", \"code\"], \"leetcode\"))"
   ]
  },
  {
   "cell_type": "code",
   "execution_count": null,
   "id": "4175f21d",
   "metadata": {},
   "outputs": [],
   "source": []
  },
  {
   "cell_type": "markdown",
   "id": "51bd51af",
   "metadata": {},
   "source": [
    "### Problem 10 : N-Queens\n",
    "Implement a recursive function to solve the N Queens problem, where you have to place N queens on an N×N\n",
    "chessboard in such a way that no two queens threaten each other.\n",
    "n_queens(4)\n",
    "[\n",
    "[\".Q..\",\n",
    "\"...Q\",\n",
    "\"Q...\",\n",
    "\"..Q.\"],\n",
    "[\"..Q.\",\n",
    "\"Q...\",\n",
    "\"...Q\",\n",
    "\".Q..\"]\n",
    "]"
   ]
  },
  {
   "cell_type": "code",
   "execution_count": 11,
   "id": "e23b5d60",
   "metadata": {},
   "outputs": [
    {
     "name": "stdout",
     "output_type": "stream",
     "text": [
      ".Q..\n",
      "...Q\n",
      "Q...\n",
      "..Q.\n",
      "\n",
      "..Q.\n",
      "Q...\n",
      "...Q\n",
      ".Q..\n",
      "\n"
     ]
    }
   ],
   "source": [
    "def is_safe(board, row, col, n):\n",
    "    # Check if there is a queen in the same column\n",
    "    for i in range(row):\n",
    "        if board[i][col] == 'Q':\n",
    "            return False\n",
    "    \n",
    "    # Check upper left diagonal\n",
    "    for i, j in zip(range(row, -1, -1), range(col, -1, -1)):\n",
    "        if board[i][j] == 'Q':\n",
    "            return False\n",
    "    \n",
    "    # Check upper right diagonal\n",
    "    for i, j in zip(range(row, -1, -1), range(col, n)):\n",
    "        if board[i][j] == 'Q':\n",
    "            return False\n",
    "    \n",
    "    return True\n",
    "\n",
    "def solve_n_queens(n, board, row, result):\n",
    "    if row == n:\n",
    "        result.append([''.join(row) for row in board])\n",
    "        return\n",
    "    \n",
    "    for col in range(n):\n",
    "        if is_safe(board, row, col, n):\n",
    "            board[row][col] = 'Q'\n",
    "            solve_n_queens(n, board, row + 1, result)\n",
    "            board[row][col] = '.'\n",
    "\n",
    "def n_queens(n):\n",
    "    if n == 0:\n",
    "        return []\n",
    "    board = [['.' for _ in range(n)] for _ in range(n)]\n",
    "    result = []\n",
    "    solve_n_queens(n, board, 0, result)\n",
    "    return result\n",
    "\n",
    "# Example usage\n",
    "solutions = n_queens(4)\n",
    "for sol in solutions:\n",
    "    print(\"\\n\".join(sol))\n",
    "    print()\n"
   ]
  },
  {
   "cell_type": "code",
   "execution_count": null,
   "id": "81aa7b3d",
   "metadata": {},
   "outputs": [],
   "source": []
  }
 ],
 "metadata": {
  "kernelspec": {
   "display_name": "Python 3 (ipykernel)",
   "language": "python",
   "name": "python3"
  },
  "language_info": {
   "codemirror_mode": {
    "name": "ipython",
    "version": 3
   },
   "file_extension": ".py",
   "mimetype": "text/x-python",
   "name": "python",
   "nbconvert_exporter": "python",
   "pygments_lexer": "ipython3",
   "version": "3.11.3"
  }
 },
 "nbformat": 4,
 "nbformat_minor": 5
}
