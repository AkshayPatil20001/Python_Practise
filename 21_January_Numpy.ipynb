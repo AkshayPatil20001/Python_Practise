{
 "cells": [
  {
   "cell_type": "markdown",
   "metadata": {
    "id": "jPWjc8n2Wek3"
   },
   "source": [
    "# Numpy\n",
    "Assignment Questions"
   ]
  },
  {
   "cell_type": "markdown",
   "metadata": {
    "id": "d0-zKYkUWx4S"
   },
   "source": [
    "**1.  What is a Python library? Why do we use Python libraries?**\n",
    "> Python libraries are a collection of related modules that contain bundles of codes that can be used in different programs. Making use of Python libraries makes it convenient for the programmer as they wouldn’t have to write the same code multiple times for different programs.  Python libraries play a very vital role in fields of Machine Learning, Data Science, Data Visualization, etc.\n",
    "\n",
    "\n",
    "\n",
    "\n",
    "\n"
   ]
  },
  {
   "cell_type": "markdown",
   "metadata": {
    "id": "lsct4xT5ZZ4q"
   },
   "source": [
    "**2. What is the difference between Numpy array and List?**\n",
    "\n",
    "> Lists and arrays are two of the most widely used data structures in Python. A list in Python is simply a collection of objects. These objects can be integers, floating point numbers, strings, boolean values or even other data structures like dictionaries. An array, specifically a Python NumPy array, is similar to a Python list. The main difference is that NumPy arrays are much faster and have strict requirements on the homogeneity of the objects. For example, a NumPy array of strings can only contain strings and no other data types, but a Python list can contain a mixture of strings, numbers, booleans and other objects. Because operations like calculating mean or sum are much faster on NumPy arrays, these data structures are more common in contexts where speed performance is a priority.\n",
    "\n"
   ]
  },
  {
   "cell_type": "markdown",
   "metadata": {
    "id": "H7F3L43qbcrD"
   },
   "source": [
    "**3. Find the shape, size and dimension of the following array?**\n",
    "> [[1, 2, 3, 4]\n",
    "[5, 6, 7, 8],\n",
    "[9, 10, 11, 12]]\n",
    "\n"
   ]
  },
  {
   "cell_type": "code",
   "execution_count": 3,
   "metadata": {
    "colab": {
     "base_uri": "https://localhost:8080/"
    },
    "id": "m-I8mHAlWVFX",
    "outputId": "d22ee9c8-db52-4d9d-8413-95b9bec3928d"
   },
   "outputs": [
    {
     "name": "stdout",
     "output_type": "stream",
     "text": [
      "The shape of above array is  (3, 4)\n",
      "The size of above array is  12\n",
      "The dimension of above array is  2\n"
     ]
    }
   ],
   "source": [
    "import numpy as np\n",
    "a=np.array([[1,2,3,4], [5,6,7,8], [9, 10, 11, 12]])\n",
    "print(\"The shape of above array is \", np.shape(a))\n",
    "print(\"The size of above array is \", np.size(a))\n",
    "print(\"The dimension of above array is \", a.ndim)"
   ]
  },
  {
   "cell_type": "markdown",
   "metadata": {
    "id": "w-xQ3qOZdECC"
   },
   "source": [
    "**4. Write python code to access the first row of the following array?**\n",
    "[[1, 2, 3, 4]\n",
    "[5, 6, 7, 8],\n",
    "[9, 10, 11, 12]]"
   ]
  },
  {
   "cell_type": "code",
   "execution_count": 4,
   "metadata": {
    "colab": {
     "base_uri": "https://localhost:8080/"
    },
    "id": "a2Y1dTVzb3dx",
    "outputId": "822ba848-1a08-4ad2-bd7e-826e3acb760a",
    "scrolled": true
   },
   "outputs": [
    {
     "data": {
      "text/plain": [
       "array([1, 2, 3, 4])"
      ]
     },
     "execution_count": 4,
     "metadata": {},
     "output_type": "execute_result"
    }
   ],
   "source": [
    "a=np.array([[1,2,3,4], [5,6,7,8], [9, 10, 11, 12]])\n",
    "np.array(a[0])"
   ]
  },
  {
   "cell_type": "markdown",
   "metadata": {
    "id": "sWk2k3Ipdef6"
   },
   "source": [
    "**5. How do you access the element at the third row and fourth column from the given numpy array?**\n",
    "[[1, 2, 3, 4]\n",
    "[5, 6, 7, 8],\n",
    "[9, 10, 11, 12]]"
   ]
  },
  {
   "cell_type": "code",
   "execution_count": 5,
   "metadata": {
    "colab": {
     "base_uri": "https://localhost:8080/"
    },
    "id": "Pv7frzIvdVgZ",
    "outputId": "8ba1de08-87b4-4d21-adb9-11e7ef800706"
   },
   "outputs": [
    {
     "data": {
      "text/plain": [
       "array(12)"
      ]
     },
     "execution_count": 5,
     "metadata": {},
     "output_type": "execute_result"
    }
   ],
   "source": [
    "a=np.array([[1,2,3,4], [5,6,7,8], [9, 10, 11, 12]])\n",
    "np.array(a[2,3])"
   ]
  },
  {
   "cell_type": "markdown",
   "metadata": {
    "id": "NYrW58MLeIVT"
   },
   "source": [
    "**6. Write code to extract all odd-indexed elements from the given numpy array?**\n",
    "[[1, 2, 3, 4]\n",
    "[5, 6, 7, 8],\n",
    "[9, 10, 11, 12]]"
   ]
  },
  {
   "cell_type": "code",
   "execution_count": 7,
   "metadata": {
    "colab": {
     "base_uri": "https://localhost:8080/"
    },
    "id": "adselnTEd-VR",
    "outputId": "e455a75e-540d-47d9-ec93-11efd3a89758"
   },
   "outputs": [
    {
     "name": "stdout",
     "output_type": "stream",
     "text": [
      "[[ 2  4]\n",
      " [ 6  8]\n",
      " [10 12]]\n"
     ]
    }
   ],
   "source": [
    "a=np.array([[1,2,3,4], [5,6,7,8], [9, 10, 11, 12]])\n",
    "print(a[:, 1::2])\n"
   ]
  },
  {
   "cell_type": "markdown",
   "metadata": {
    "id": "jFUVDG8XlKxk"
   },
   "source": [
    "**7. How can you generate a random 3x3 matrix with values between 0 and 1?**\n",
    "\n",
    "\n"
   ]
  },
  {
   "cell_type": "code",
   "execution_count": 13,
   "metadata": {
    "colab": {
     "base_uri": "https://localhost:8080/"
    },
    "id": "vFjFex3wlJTm",
    "outputId": "229947cc-82aa-440d-b609-8630d021675e"
   },
   "outputs": [
    {
     "data": {
      "text/plain": [
       "array([[0.86164753, 0.19447671, 0.07077832],\n",
       "       [0.96867749, 0.38463611, 0.50080429],\n",
       "       [0.03550228, 0.72781902, 0.64428526]])"
      ]
     },
     "execution_count": 13,
     "metadata": {},
     "output_type": "execute_result"
    }
   ],
   "source": [
    "np.random.rand(3, 3)"
   ]
  },
  {
   "cell_type": "markdown",
   "metadata": {
    "id": "yI5OssuNnM_c"
   },
   "source": [
    "**8. Describe the difference between np.random.rand and np.random.randn?**\n",
    "> The key difference between np.random.rand and np.random.randn in NumPy lies in the type of random numbers they generate:\n",
    "\n",
    "**np.random.rand:**\n",
    "\n",
    "This function generates samples from a uniform distribution between 0 (inclusive) and 1 (exclusive). This means each number has an equal probability of appearing between 0 and 1.\n",
    "The shape of the output array can be specified as arguments. For example, np.random.rand(3, 4) will generate a 3x4 array of random values between 0 and 1.\n",
    "\n",
    "**np.random.randn:**\n",
    "\n",
    "This function generates samples from the standard normal distribution, also known as the Gaussian distribution. This distribution has a mean of 0 and a standard deviation of 1.\n",
    "Most of the generated values will be close to 0, with fewer values farther away on either side.\n",
    "Similar to rand, you can specify the desired shape of the output array.\n",
    "\n",
    "\n"
   ]
  },
  {
   "cell_type": "code",
   "execution_count": 14,
   "metadata": {
    "colab": {
     "base_uri": "https://localhost:8080/"
    },
    "id": "f40cAH5ylJWk",
    "outputId": "925db858-b1c4-40f8-de67-291f71cac0e5"
   },
   "outputs": [
    {
     "data": {
      "text/plain": [
       "array([[0.66822391, 0.13612333, 0.97462152],\n",
       "       [0.45775935, 0.0492768 , 0.539311  ],\n",
       "       [0.12387152, 0.76454327, 0.71280389]])"
      ]
     },
     "execution_count": 14,
     "metadata": {},
     "output_type": "execute_result"
    }
   ],
   "source": [
    "np.random.rand(3, 3)"
   ]
  },
  {
   "cell_type": "code",
   "execution_count": 15,
   "metadata": {
    "colab": {
     "base_uri": "https://localhost:8080/"
    },
    "id": "AjiUB5L9qznD",
    "outputId": "c7020873-fc05-4494-cc4a-9bb1a9b8ed82"
   },
   "outputs": [
    {
     "data": {
      "text/plain": [
       "array([[-1.04351953, -1.88745042,  0.59623888],\n",
       "       [-0.8914016 ,  0.61825038, -1.16352214],\n",
       "       [ 1.40133862,  0.57566803,  2.08778706]])"
      ]
     },
     "execution_count": 15,
     "metadata": {},
     "output_type": "execute_result"
    }
   ],
   "source": [
    "np.random.randn(3, 3)"
   ]
  },
  {
   "cell_type": "markdown",
   "metadata": {
    "id": "0Yc72ayfrKhl"
   },
   "source": [
    "**9. Write code to increase the dimension of the following array?**\n",
    "[[1, 2, 3, 4]\n",
    "[5, 6, 7, 8],\n",
    "[9, 10, 11, 12]]"
   ]
  },
  {
   "cell_type": "code",
   "execution_count": 23,
   "metadata": {
    "colab": {
     "base_uri": "https://localhost:8080/"
    },
    "id": "jZqP43T9q20L",
    "outputId": "6d38ea04-c2c6-426b-8d50-15f98f8c9b4a"
   },
   "outputs": [
    {
     "name": "stdout",
     "output_type": "stream",
     "text": [
      "[[ 1  2  3  4]\n",
      " [ 5  6  7  8]\n",
      " [ 9 10 11 12]]\n",
      " Dimension before expansion is  2\n",
      " Dimension before expansion is  3\n"
     ]
    }
   ],
   "source": [
    "a=np.array([[1,2,3,4], [5,6,7,8], [9, 10, 11, 12]])\n",
    "print(a)\n",
    "print(\" Dimension before expansion is \",np.ndim(a))\n",
    "\n",
    "b=np.expand_dims(a, axis=0)\n",
    "print(\" Dimension before expansion is \",np.ndim(b))\n"
   ]
  },
  {
   "cell_type": "markdown",
   "metadata": {
    "id": "ra04G4tftZhF"
   },
   "source": [
    "**10. How to transpose the following array in NumPy?**\n",
    "[[1, 2, 3, 4]\n",
    "[5, 6, 7, 8],\n",
    "[9, 10, 11, 12]]"
   ]
  },
  {
   "cell_type": "code",
   "execution_count": 24,
   "metadata": {
    "colab": {
     "base_uri": "https://localhost:8080/"
    },
    "id": "PHJrl3Kcr20c",
    "outputId": "b346c0aa-6918-4b39-9c63-8c7ba019b4e1"
   },
   "outputs": [
    {
     "data": {
      "text/plain": [
       "array([[ 1,  5,  9],\n",
       "       [ 2,  6, 10],\n",
       "       [ 3,  7, 11],\n",
       "       [ 4,  8, 12]])"
      ]
     },
     "execution_count": 24,
     "metadata": {},
     "output_type": "execute_result"
    }
   ],
   "source": [
    "a=np.array([[1,2,3,4], [5,6,7,8], [9, 10, 11, 12]])\n",
    "a.T"
   ]
  },
  {
   "cell_type": "code",
   "execution_count": 27,
   "metadata": {
    "colab": {
     "base_uri": "https://localhost:8080/"
    },
    "id": "BljmCJOjsg78",
    "outputId": "0aa22ee2-976a-4f95-f850-fc9e3bd0e8c7"
   },
   "outputs": [
    {
     "data": {
      "text/plain": [
       "array([[ 1,  5,  9],\n",
       "       [ 2,  6, 10],\n",
       "       [ 3,  7, 11],\n",
       "       [ 4,  8, 12]])"
      ]
     },
     "execution_count": 27,
     "metadata": {},
     "output_type": "execute_result"
    }
   ],
   "source": [
    "a=np.array([[1,2,3,4], [5,6,7,8], [9, 10, 11, 12]])\n",
    "transposed_array = np.transpose(a)\n",
    "transposed_array"
   ]
  },
  {
   "cell_type": "markdown",
   "metadata": {
    "id": "n-6lttJtuaYe"
   },
   "source": [
    "**11. Consider the following matrix:**\n",
    "> Matrix A2 [[1, 2, 3, 4] [5, 6, 7, 8],[9, 10, 11, 12]]\n",
    "\n",
    "> Matrix B2 [[1, 2, 3, 4] [5, 6, 7, 8],[9, 10, 11, 12]]\n",
    "\n",
    "\n",
    "\n",
    ">Perform the following operation using Python:\n",
    "\n",
    "1.    Index Wise Multiplication\n",
    "2.    Matrix Multiplication\n",
    "3.   Add both the matrix\n",
    "4.   Subtract B from A\n",
    "5.   Divide Matrix B by A\n",
    "\n",
    "\n",
    "\n",
    "\n",
    "\n",
    "\n",
    "\n",
    "\n",
    "\n",
    "\n",
    "\n",
    "\n",
    "\n",
    "\n",
    "\n",
    "\n",
    "\n",
    "\n",
    "\n",
    "\n",
    "\n",
    "\n"
   ]
  },
  {
   "cell_type": "code",
   "execution_count": 34,
   "metadata": {
    "colab": {
     "base_uri": "https://localhost:8080/"
    },
    "id": "fJlEFCuVuTzE",
    "outputId": "4c3e8823-943d-4106-91e8-8b562c28dded"
   },
   "outputs": [
    {
     "name": "stdout",
     "output_type": "stream",
     "text": [
      "[[ 1  2  3]\n",
      " [ 5  6  7]\n",
      " [ 9 10 11]]\n",
      "\n",
      "[[ 1  2  3]\n",
      " [ 5  6  7]\n",
      " [ 9 10 11]]\n"
     ]
    }
   ],
   "source": [
    "A=np.array([[1, 2, 3], [5, 6, 7],[9, 10, 11]])\n",
    "B=np.array([[1, 2, 3] ,[5, 6, 7],[9, 10, 11]])\n",
    "print(A)\n",
    "print()\n",
    "print(B)"
   ]
  },
  {
   "cell_type": "code",
   "execution_count": 35,
   "metadata": {
    "colab": {
     "base_uri": "https://localhost:8080/"
    },
    "id": "rwvXxF-2wCCW",
    "outputId": "9270e695-1dfd-4a52-f649-384df2a05f95"
   },
   "outputs": [
    {
     "data": {
      "text/plain": [
       "array([[  1,   4,   9],\n",
       "       [ 25,  36,  49],\n",
       "       [ 81, 100, 121]])"
      ]
     },
     "execution_count": 35,
     "metadata": {},
     "output_type": "execute_result"
    }
   ],
   "source": [
    "# Index Wise Multiplication\n",
    "A*B"
   ]
  },
  {
   "cell_type": "code",
   "execution_count": 36,
   "metadata": {
    "colab": {
     "base_uri": "https://localhost:8080/"
    },
    "id": "WSjrFIWuwV41",
    "outputId": "c899beee-b242-4b1d-d800-31d924815ae9"
   },
   "outputs": [
    {
     "data": {
      "text/plain": [
       "array([[ 38,  44,  50],\n",
       "       [ 98, 116, 134],\n",
       "       [158, 188, 218]])"
      ]
     },
     "execution_count": 36,
     "metadata": {},
     "output_type": "execute_result"
    }
   ],
   "source": [
    "# Matrix Multiplication\n",
    "A @ B"
   ]
  },
  {
   "cell_type": "code",
   "execution_count": 37,
   "metadata": {
    "colab": {
     "base_uri": "https://localhost:8080/"
    },
    "id": "9RNOD07cwdZl",
    "outputId": "1044c7c8-ae82-41b3-ba69-998a9b4e10f4"
   },
   "outputs": [
    {
     "data": {
      "text/plain": [
       "array([[ 2,  4,  6],\n",
       "       [10, 12, 14],\n",
       "       [18, 20, 22]])"
      ]
     },
     "execution_count": 37,
     "metadata": {},
     "output_type": "execute_result"
    }
   ],
   "source": [
    "# Add both the matrix\n",
    "A + B"
   ]
  },
  {
   "cell_type": "code",
   "execution_count": 38,
   "metadata": {
    "colab": {
     "base_uri": "https://localhost:8080/"
    },
    "id": "A1xkpAqexN-U",
    "outputId": "880a86af-5dcc-409b-905a-8820c2103752"
   },
   "outputs": [
    {
     "data": {
      "text/plain": [
       "array([[0, 0, 0],\n",
       "       [0, 0, 0],\n",
       "       [0, 0, 0]])"
      ]
     },
     "execution_count": 38,
     "metadata": {},
     "output_type": "execute_result"
    }
   ],
   "source": [
    "# Subtract B from A\n",
    "B- A"
   ]
  },
  {
   "cell_type": "code",
   "execution_count": 39,
   "metadata": {
    "colab": {
     "base_uri": "https://localhost:8080/"
    },
    "id": "kxylWf7VxRCk",
    "outputId": "fd3f9839-31eb-4fe9-e8e7-3b69809f6389"
   },
   "outputs": [
    {
     "data": {
      "text/plain": [
       "array([[1., 1., 1.],\n",
       "       [1., 1., 1.],\n",
       "       [1., 1., 1.]])"
      ]
     },
     "execution_count": 39,
     "metadata": {},
     "output_type": "execute_result"
    }
   ],
   "source": [
    "# Divide Matrix B by A\n",
    "B/A"
   ]
  },
  {
   "cell_type": "markdown",
   "metadata": {
    "id": "4BK4jrvZxheI"
   },
   "source": [
    "**12. Which function in Numpy can be used to swap the byte order of an array?**\n",
    "\n",
    "\n",
    "> In NumPy, the primary function for swapping the byte order of an array is **np.ndarray.byteswap().**\n",
    "\n"
   ]
  },
  {
   "cell_type": "code",
   "execution_count": 40,
   "metadata": {
    "colab": {
     "base_uri": "https://localhost:8080/"
    },
    "id": "Ddv1X1AUxWA0",
    "outputId": "b333880c-63b9-4454-8447-75941310135f"
   },
   "outputs": [
    {
     "name": "stdout",
     "output_type": "stream",
     "text": [
      "Original array:\n",
      "[1 2 3 4]\n",
      "\n",
      "Swapped array:\n",
      "[16777216 33554432 50331648 67108864]\n"
     ]
    }
   ],
   "source": [
    "import numpy as np\n",
    "\n",
    "# Create an array with integers for demonstration\n",
    "original_array = np.array([1, 2, 3, 4], dtype=np.int32)\n",
    "\n",
    "# Swap the byte order of the array\n",
    "swapped_array = original_array.byteswap()\n",
    "\n",
    "print(\"Original array:\")\n",
    "print(original_array)\n",
    "print(\"\\nSwapped array:\")\n",
    "print(swapped_array)\n"
   ]
  },
  {
   "cell_type": "markdown",
   "metadata": {
    "id": "ldFgBz8jzC4_"
   },
   "source": [
    "**13. What is the significance of the np.linalg.inv function?**\n",
    "\n",
    "> The np.linalg.inv function in NumPy is used to compute the inverse of a square matrix\n",
    "\n"
   ]
  },
  {
   "cell_type": "code",
   "execution_count": 41,
   "metadata": {
    "colab": {
     "base_uri": "https://localhost:8080/"
    },
    "id": "MwxsOzxZyiH-",
    "outputId": "addb1e13-5ade-45b5-8951-92d53dadab8e"
   },
   "outputs": [
    {
     "name": "stdout",
     "output_type": "stream",
     "text": [
      "Original matrix:\n",
      "[[2 1]\n",
      " [7 4]]\n",
      "\n",
      "Inverse matrix:\n",
      "[[ 4. -1.]\n",
      " [-7.  2.]]\n"
     ]
    }
   ],
   "source": [
    "A = np.array([[2, 1],\n",
    "              [7, 4]])\n",
    "\n",
    "# Compute the inverse\n",
    "A_inv = np.linalg.inv(A)\n",
    "\n",
    "print(\"Original matrix:\")\n",
    "print(A)\n",
    "\n",
    "print(\"\\nInverse matrix:\")\n",
    "print(A_inv)\n"
   ]
  },
  {
   "cell_type": "markdown",
   "metadata": {
    "id": "iWdb9v-FzlSI"
   },
   "source": [
    "**14. What does the np.reshape function do, and how is it used?**\n",
    "\n",
    ">\n",
    "The np.reshape function in NumPy is used to change the shape of an array without changing its data. It returns a new array with a specified shape, and the total number of elements in the reshaped array remains the same as the original array.\n",
    "\n"
   ]
  },
  {
   "cell_type": "code",
   "execution_count": 43,
   "metadata": {
    "colab": {
     "base_uri": "https://localhost:8080/"
    },
    "id": "hfn-DFR_zp9u",
    "outputId": "6ed2d946-57ab-4956-882e-efc7b5ed2913"
   },
   "outputs": [
    {
     "name": "stdout",
     "output_type": "stream",
     "text": [
      "1\n",
      "Original array:\n",
      "[ 0  1  2  3  4  5  6  7  8  9 10 11]\n",
      "\n",
      "Reshaped array:\n",
      "[[ 0  1  2  3]\n",
      " [ 4  5  6  7]\n",
      " [ 8  9 10 11]]\n",
      "2\n"
     ]
    }
   ],
   "source": [
    "\n",
    "# Create a 1D array with 12 elements\n",
    "original_array = np.arange(12)\n",
    "print(original_array.ndim)\n",
    "# Reshape the array to a 3x4 matrix\n",
    "reshaped_array = np.reshape(original_array, (3, 4))\n",
    "\n",
    "print(\"Original array:\")\n",
    "print(original_array)\n",
    "\n",
    "print(\"\\nReshaped array:\")\n",
    "print(reshaped_array)\n",
    "print(reshaped_array.ndim)\n"
   ]
  },
  {
   "cell_type": "markdown",
   "metadata": {
    "id": "OHUb4FaH03WB"
   },
   "source": [
    "**15. What is broadcasting in Numpy?**\n",
    "\n",
    ">\n",
    "Broadcasting in NumPy is a powerful mechanism that allows arrays of different shapes and sizes to be combined and operated upon together. This is done in a way that makes it possible to perform element-wise operations between arrays of different shapes, without the need for explicit replication of the smaller array to match the shape of the larger one.\n",
    "\n"
   ]
  },
  {
   "cell_type": "code",
   "execution_count": null,
   "metadata": {},
   "outputs": [],
   "source": []
  }
 ],
 "metadata": {
  "colab": {
   "provenance": []
  },
  "kernelspec": {
   "display_name": "Python 3 (ipykernel)",
   "language": "python",
   "name": "python3"
  },
  "language_info": {
   "codemirror_mode": {
    "name": "ipython",
    "version": 3
   },
   "file_extension": ".py",
   "mimetype": "text/x-python",
   "name": "python",
   "nbconvert_exporter": "python",
   "pygments_lexer": "ipython3",
   "version": "3.11.3"
  }
 },
 "nbformat": 4,
 "nbformat_minor": 1
}
