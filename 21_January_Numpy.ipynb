{
  "nbformat": 4,
  "nbformat_minor": 0,
  "metadata": {
    "colab": {
      "provenance": []
    },
    "kernelspec": {
      "name": "python3",
      "display_name": "Python 3"
    },
    "language_info": {
      "name": "python"
    }
  },
  "cells": [
    {
      "cell_type": "markdown",
      "source": [
        "# Numpy\n",
        "Assignment Questions"
      ],
      "metadata": {
        "id": "jPWjc8n2Wek3"
      }
    },
    {
      "cell_type": "markdown",
      "source": [
        "**1.  What is a Python library? Why do we use Python libraries?**\n",
        "> Python libraries are a collection of related modules that contain bundles of codes that can be used in different programs. Making use of Python libraries makes it convenient for the programmer as they wouldn’t have to write the same code multiple times for different programs.  Python libraries play a very vital role in fields of Machine Learning, Data Science, Data Visualization, etc.\n",
        "\n",
        "\n",
        "\n",
        "\n",
        "\n"
      ],
      "metadata": {
        "id": "d0-zKYkUWx4S"
      }
    },
    {
      "cell_type": "markdown",
      "source": [
        "**2. What is the difference between Numpy array and List?**\n",
        "\n",
        "> Lists and arrays are two of the most widely used data structures in Python. A list in Python is simply a collection of objects. These objects can be integers, floating point numbers, strings, boolean values or even other data structures like dictionaries. An array, specifically a Python NumPy array, is similar to a Python list. The main difference is that NumPy arrays are much faster and have strict requirements on the homogeneity of the objects. For example, a NumPy array of strings can only contain strings and no other data types, but a Python list can contain a mixture of strings, numbers, booleans and other objects. Because operations like calculating mean or sum are much faster on NumPy arrays, these data structures are more common in contexts where speed performance is a priority.\n",
        "\n"
      ],
      "metadata": {
        "id": "lsct4xT5ZZ4q"
      }
    },
    {
      "cell_type": "markdown",
      "source": [
        "**3. Find the shape, size and dimension of the following array?**\n",
        "> [[1, 2, 3, 4]\n",
        "[5, 6, 7, 8],\n",
        "[9, 10, 11, 12]]\n",
        "\n"
      ],
      "metadata": {
        "id": "H7F3L43qbcrD"
      }
    },
    {
      "cell_type": "code",
      "execution_count": 3,
      "metadata": {
        "colab": {
          "base_uri": "https://localhost:8080/"
        },
        "id": "m-I8mHAlWVFX",
        "outputId": "d22ee9c8-db52-4d9d-8413-95b9bec3928d"
      },
      "outputs": [
        {
          "output_type": "stream",
          "name": "stdout",
          "text": [
            "The shape of above array is  (3, 4)\n",
            "The size of above array is  12\n",
            "The dimension of above array is  2\n"
          ]
        }
      ],
      "source": [
        "import numpy as np\n",
        "a=np.array([[1,2,3,4], [5,6,7,8], [9, 10, 11, 12]])\n",
        "print(\"The shape of above array is \", np.shape(a))\n",
        "print(\"The size of above array is \", np.size(a))\n",
        "print(\"The dimension of above array is \", a.ndim)"
      ]
    },
    {
      "cell_type": "markdown",
      "source": [
        "**4. Write python code to access the first row of the following array?**\n",
        "[[1, 2, 3, 4]\n",
        "[5, 6, 7, 8],\n",
        "[9, 10, 11, 12]]"
      ],
      "metadata": {
        "id": "w-xQ3qOZdECC"
      }
    },
    {
      "cell_type": "code",
      "source": [
        "a=np.array([[1,2,3,4], [5,6,7,8], [9, 10, 11, 12]])\n",
        "np.array(a[0])"
      ],
      "metadata": {
        "colab": {
          "base_uri": "https://localhost:8080/"
        },
        "id": "a2Y1dTVzb3dx",
        "outputId": "822ba848-1a08-4ad2-bd7e-826e3acb760a"
      },
      "execution_count": 4,
      "outputs": [
        {
          "output_type": "execute_result",
          "data": {
            "text/plain": [
              "array([1, 2, 3, 4])"
            ]
          },
          "metadata": {},
          "execution_count": 4
        }
      ]
    },
    {
      "cell_type": "markdown",
      "source": [
        "**5. How do you access the element at the third row and fourth column from the given numpy array?**\n",
        "[[1, 2, 3, 4]\n",
        "[5, 6, 7, 8],\n",
        "[9, 10, 11, 12]]"
      ],
      "metadata": {
        "id": "sWk2k3Ipdef6"
      }
    },
    {
      "cell_type": "code",
      "source": [
        "a=np.array([[1,2,3,4], [5,6,7,8], [9, 10, 11, 12]])\n",
        "np.array(a[2,3])"
      ],
      "metadata": {
        "colab": {
          "base_uri": "https://localhost:8080/"
        },
        "id": "Pv7frzIvdVgZ",
        "outputId": "8ba1de08-87b4-4d21-adb9-11e7ef800706"
      },
      "execution_count": 5,
      "outputs": [
        {
          "output_type": "execute_result",
          "data": {
            "text/plain": [
              "array(12)"
            ]
          },
          "metadata": {},
          "execution_count": 5
        }
      ]
    },
    {
      "cell_type": "markdown",
      "source": [
        "**6. Write code to extract all odd-indexed elements from the given numpy array?**\n",
        "[[1, 2, 3, 4]\n",
        "[5, 6, 7, 8],\n",
        "[9, 10, 11, 12]]"
      ],
      "metadata": {
        "id": "NYrW58MLeIVT"
      }
    },
    {
      "cell_type": "code",
      "source": [
        "a=np.array([[1,2,3,4], [5,6,7,8], [9, 10, 11, 12]])\n",
        "print(a[:, 1::2])\n"
      ],
      "metadata": {
        "colab": {
          "base_uri": "https://localhost:8080/"
        },
        "id": "adselnTEd-VR",
        "outputId": "e455a75e-540d-47d9-ec93-11efd3a89758"
      },
      "execution_count": 7,
      "outputs": [
        {
          "output_type": "stream",
          "name": "stdout",
          "text": [
            "[[ 2  4]\n",
            " [ 6  8]\n",
            " [10 12]]\n"
          ]
        }
      ]
    },
    {
      "cell_type": "markdown",
      "source": [
        "**7. How can you generate a random 3x3 matrix with values between 0 and 1?**\n",
        "\n",
        "\n"
      ],
      "metadata": {
        "id": "jFUVDG8XlKxk"
      }
    },
    {
      "cell_type": "code",
      "source": [
        "np.random.rand(3, 3)"
      ],
      "metadata": {
        "colab": {
          "base_uri": "https://localhost:8080/"
        },
        "id": "vFjFex3wlJTm",
        "outputId": "229947cc-82aa-440d-b609-8630d021675e"
      },
      "execution_count": 13,
      "outputs": [
        {
          "output_type": "execute_result",
          "data": {
            "text/plain": [
              "array([[0.86164753, 0.19447671, 0.07077832],\n",
              "       [0.96867749, 0.38463611, 0.50080429],\n",
              "       [0.03550228, 0.72781902, 0.64428526]])"
            ]
          },
          "metadata": {},
          "execution_count": 13
        }
      ]
    },
    {
      "cell_type": "markdown",
      "source": [
        "**8. Describe the difference between np.random.rand and np.random.randn?**\n",
        "> The key difference between np.random.rand and np.random.randn in NumPy lies in the type of random numbers they generate:\n",
        "\n",
        "**np.random.rand:**\n",
        "\n",
        "This function generates samples from a uniform distribution between 0 (inclusive) and 1 (exclusive). This means each number has an equal probability of appearing between 0 and 1.\n",
        "The shape of the output array can be specified as arguments. For example, np.random.rand(3, 4) will generate a 3x4 array of random values between 0 and 1.\n",
        "\n",
        "**np.random.randn:**\n",
        "\n",
        "This function generates samples from the standard normal distribution, also known as the Gaussian distribution. This distribution has a mean of 0 and a standard deviation of 1.\n",
        "Most of the generated values will be close to 0, with fewer values farther away on either side.\n",
        "Similar to rand, you can specify the desired shape of the output array.\n",
        "\n",
        "\n"
      ],
      "metadata": {
        "id": "yI5OssuNnM_c"
      }
    },
    {
      "cell_type": "code",
      "source": [
        "np.random.rand(3, 3)"
      ],
      "metadata": {
        "colab": {
          "base_uri": "https://localhost:8080/"
        },
        "id": "f40cAH5ylJWk",
        "outputId": "925db858-b1c4-40f8-de67-291f71cac0e5"
      },
      "execution_count": 14,
      "outputs": [
        {
          "output_type": "execute_result",
          "data": {
            "text/plain": [
              "array([[0.66822391, 0.13612333, 0.97462152],\n",
              "       [0.45775935, 0.0492768 , 0.539311  ],\n",
              "       [0.12387152, 0.76454327, 0.71280389]])"
            ]
          },
          "metadata": {},
          "execution_count": 14
        }
      ]
    },
    {
      "cell_type": "code",
      "source": [
        "np.random.randn(3, 3)"
      ],
      "metadata": {
        "colab": {
          "base_uri": "https://localhost:8080/"
        },
        "id": "AjiUB5L9qznD",
        "outputId": "c7020873-fc05-4494-cc4a-9bb1a9b8ed82"
      },
      "execution_count": 15,
      "outputs": [
        {
          "output_type": "execute_result",
          "data": {
            "text/plain": [
              "array([[-1.04351953, -1.88745042,  0.59623888],\n",
              "       [-0.8914016 ,  0.61825038, -1.16352214],\n",
              "       [ 1.40133862,  0.57566803,  2.08778706]])"
            ]
          },
          "metadata": {},
          "execution_count": 15
        }
      ]
    },
    {
      "cell_type": "markdown",
      "source": [
        "**9. Write code to increase the dimension of the following array?**\n",
        "[[1, 2, 3, 4]\n",
        "[5, 6, 7, 8],\n",
        "[9, 10, 11, 12]]"
      ],
      "metadata": {
        "id": "0Yc72ayfrKhl"
      }
    },
    {
      "cell_type": "code",
      "source": [
        "a=np.array([[1,2,3,4], [5,6,7,8], [9, 10, 11, 12]])\n",
        "print(a)\n",
        "print(\" Dimension before expansion is \",np.ndim(a))\n",
        "\n",
        "b=np.expand_dims(a, axis=0)\n",
        "print(\" Dimension before expansion is \",np.ndim(b))\n"
      ],
      "metadata": {
        "colab": {
          "base_uri": "https://localhost:8080/"
        },
        "id": "jZqP43T9q20L",
        "outputId": "6d38ea04-c2c6-426b-8d50-15f98f8c9b4a"
      },
      "execution_count": 23,
      "outputs": [
        {
          "output_type": "stream",
          "name": "stdout",
          "text": [
            "[[ 1  2  3  4]\n",
            " [ 5  6  7  8]\n",
            " [ 9 10 11 12]]\n",
            " Dimension before expansion is  2\n",
            " Dimension before expansion is  3\n"
          ]
        }
      ]
    },
    {
      "cell_type": "markdown",
      "source": [
        "**10. How to transpose the following array in NumPy?**\n",
        "[[1, 2, 3, 4]\n",
        "[5, 6, 7, 8],\n",
        "[9, 10, 11, 12]]"
      ],
      "metadata": {
        "id": "ra04G4tftZhF"
      }
    },
    {
      "cell_type": "code",
      "source": [
        "a=np.array([[1,2,3,4], [5,6,7,8], [9, 10, 11, 12]])\n",
        "a.T"
      ],
      "metadata": {
        "colab": {
          "base_uri": "https://localhost:8080/"
        },
        "id": "PHJrl3Kcr20c",
        "outputId": "b346c0aa-6918-4b39-9c63-8c7ba019b4e1"
      },
      "execution_count": 24,
      "outputs": [
        {
          "output_type": "execute_result",
          "data": {
            "text/plain": [
              "array([[ 1,  5,  9],\n",
              "       [ 2,  6, 10],\n",
              "       [ 3,  7, 11],\n",
              "       [ 4,  8, 12]])"
            ]
          },
          "metadata": {},
          "execution_count": 24
        }
      ]
    },
    {
      "cell_type": "code",
      "source": [
        "a=np.array([[1,2,3,4], [5,6,7,8], [9, 10, 11, 12]])\n",
        "transposed_array = np.transpose(a)\n",
        "transposed_array"
      ],
      "metadata": {
        "colab": {
          "base_uri": "https://localhost:8080/"
        },
        "id": "BljmCJOjsg78",
        "outputId": "0aa22ee2-976a-4f95-f850-fc9e3bd0e8c7"
      },
      "execution_count": 27,
      "outputs": [
        {
          "output_type": "execute_result",
          "data": {
            "text/plain": [
              "array([[ 1,  5,  9],\n",
              "       [ 2,  6, 10],\n",
              "       [ 3,  7, 11],\n",
              "       [ 4,  8, 12]])"
            ]
          },
          "metadata": {},
          "execution_count": 27
        }
      ]
    },
    {
      "cell_type": "markdown",
      "source": [
        "**11. Consider the following matrix:**\n",
        "> Matrix A2 [[1, 2, 3, 4] [5, 6, 7, 8],[9, 10, 11, 12]]\n",
        "\n",
        "> Matrix B2 [[1, 2, 3, 4] [5, 6, 7, 8],[9, 10, 11, 12]]\n",
        "\n",
        "\n",
        "\n",
        ">Perform the following operation using Python:\n",
        "\n",
        "1.    Index Wise Multiplication\n",
        "2.    Matrix Multiplication\n",
        "3.   Add both the matrix\n",
        "4.   Subtract B from A\n",
        "5.   Divide Matrix B by A\n",
        "\n",
        "\n",
        "\n",
        "\n",
        "\n",
        "\n",
        "\n",
        "\n",
        "\n",
        "\n",
        "\n",
        "\n",
        "\n",
        "\n",
        "\n",
        "\n",
        "\n",
        "\n",
        "\n",
        "\n",
        "\n",
        "\n"
      ],
      "metadata": {
        "id": "n-6lttJtuaYe"
      }
    },
    {
      "cell_type": "code",
      "source": [
        "A=np.array([[1, 2, 3], [5, 6, 7],[9, 10, 11]])\n",
        "B=np.array([[1, 2, 3] ,[5, 6, 7],[9, 10, 11]])\n",
        "print(A)\n",
        "print()\n",
        "print(B)"
      ],
      "metadata": {
        "colab": {
          "base_uri": "https://localhost:8080/"
        },
        "id": "fJlEFCuVuTzE",
        "outputId": "4c3e8823-943d-4106-91e8-8b562c28dded"
      },
      "execution_count": 34,
      "outputs": [
        {
          "output_type": "stream",
          "name": "stdout",
          "text": [
            "[[ 1  2  3]\n",
            " [ 5  6  7]\n",
            " [ 9 10 11]]\n",
            "\n",
            "[[ 1  2  3]\n",
            " [ 5  6  7]\n",
            " [ 9 10 11]]\n"
          ]
        }
      ]
    },
    {
      "cell_type": "code",
      "source": [
        "# Index Wise Multiplication\n",
        "A*B"
      ],
      "metadata": {
        "colab": {
          "base_uri": "https://localhost:8080/"
        },
        "id": "rwvXxF-2wCCW",
        "outputId": "9270e695-1dfd-4a52-f649-384df2a05f95"
      },
      "execution_count": 35,
      "outputs": [
        {
          "output_type": "execute_result",
          "data": {
            "text/plain": [
              "array([[  1,   4,   9],\n",
              "       [ 25,  36,  49],\n",
              "       [ 81, 100, 121]])"
            ]
          },
          "metadata": {},
          "execution_count": 35
        }
      ]
    },
    {
      "cell_type": "code",
      "source": [
        "# Matrix Multiplication\n",
        "A @ B"
      ],
      "metadata": {
        "colab": {
          "base_uri": "https://localhost:8080/"
        },
        "id": "WSjrFIWuwV41",
        "outputId": "c899beee-b242-4b1d-d800-31d924815ae9"
      },
      "execution_count": 36,
      "outputs": [
        {
          "output_type": "execute_result",
          "data": {
            "text/plain": [
              "array([[ 38,  44,  50],\n",
              "       [ 98, 116, 134],\n",
              "       [158, 188, 218]])"
            ]
          },
          "metadata": {},
          "execution_count": 36
        }
      ]
    },
    {
      "cell_type": "code",
      "source": [
        "# Add both the matrix\n",
        "A + B"
      ],
      "metadata": {
        "colab": {
          "base_uri": "https://localhost:8080/"
        },
        "id": "9RNOD07cwdZl",
        "outputId": "1044c7c8-ae82-41b3-ba69-998a9b4e10f4"
      },
      "execution_count": 37,
      "outputs": [
        {
          "output_type": "execute_result",
          "data": {
            "text/plain": [
              "array([[ 2,  4,  6],\n",
              "       [10, 12, 14],\n",
              "       [18, 20, 22]])"
            ]
          },
          "metadata": {},
          "execution_count": 37
        }
      ]
    },
    {
      "cell_type": "code",
      "source": [
        "# Subtract B from A\n",
        "B- A"
      ],
      "metadata": {
        "colab": {
          "base_uri": "https://localhost:8080/"
        },
        "id": "A1xkpAqexN-U",
        "outputId": "880a86af-5dcc-409b-905a-8820c2103752"
      },
      "execution_count": 38,
      "outputs": [
        {
          "output_type": "execute_result",
          "data": {
            "text/plain": [
              "array([[0, 0, 0],\n",
              "       [0, 0, 0],\n",
              "       [0, 0, 0]])"
            ]
          },
          "metadata": {},
          "execution_count": 38
        }
      ]
    },
    {
      "cell_type": "code",
      "source": [
        "# Divide Matrix B by A\n",
        "B/A"
      ],
      "metadata": {
        "colab": {
          "base_uri": "https://localhost:8080/"
        },
        "id": "kxylWf7VxRCk",
        "outputId": "fd3f9839-31eb-4fe9-e8e7-3b69809f6389"
      },
      "execution_count": 39,
      "outputs": [
        {
          "output_type": "execute_result",
          "data": {
            "text/plain": [
              "array([[1., 1., 1.],\n",
              "       [1., 1., 1.],\n",
              "       [1., 1., 1.]])"
            ]
          },
          "metadata": {},
          "execution_count": 39
        }
      ]
    },
    {
      "cell_type": "markdown",
      "source": [
        "**12. Which function in Numpy can be used to swap the byte order of an array?**\n",
        "\n",
        "\n",
        "> In NumPy, the primary function for swapping the byte order of an array is **np.ndarray.byteswap().**\n",
        "\n"
      ],
      "metadata": {
        "id": "4BK4jrvZxheI"
      }
    },
    {
      "cell_type": "code",
      "source": [
        "import numpy as np\n",
        "\n",
        "# Create an array with integers for demonstration\n",
        "original_array = np.array([1, 2, 3, 4], dtype=np.int32)\n",
        "\n",
        "# Swap the byte order of the array\n",
        "swapped_array = original_array.byteswap()\n",
        "\n",
        "print(\"Original array:\")\n",
        "print(original_array)\n",
        "print(\"\\nSwapped array:\")\n",
        "print(swapped_array)\n"
      ],
      "metadata": {
        "colab": {
          "base_uri": "https://localhost:8080/"
        },
        "id": "Ddv1X1AUxWA0",
        "outputId": "b333880c-63b9-4454-8447-75941310135f"
      },
      "execution_count": 40,
      "outputs": [
        {
          "output_type": "stream",
          "name": "stdout",
          "text": [
            "Original array:\n",
            "[1 2 3 4]\n",
            "\n",
            "Swapped array:\n",
            "[16777216 33554432 50331648 67108864]\n"
          ]
        }
      ]
    },
    {
      "cell_type": "markdown",
      "source": [
        "**13. What is the significance of the np.linalg.inv function?**\n",
        "\n",
        "> The np.linalg.inv function in NumPy is used to compute the inverse of a square matrix\n",
        "\n"
      ],
      "metadata": {
        "id": "ldFgBz8jzC4_"
      }
    },
    {
      "cell_type": "code",
      "source": [
        "A = np.array([[2, 1],\n",
        "              [7, 4]])\n",
        "\n",
        "# Compute the inverse\n",
        "A_inv = np.linalg.inv(A)\n",
        "\n",
        "print(\"Original matrix:\")\n",
        "print(A)\n",
        "\n",
        "print(\"\\nInverse matrix:\")\n",
        "print(A_inv)\n"
      ],
      "metadata": {
        "colab": {
          "base_uri": "https://localhost:8080/"
        },
        "id": "MwxsOzxZyiH-",
        "outputId": "addb1e13-5ade-45b5-8951-92d53dadab8e"
      },
      "execution_count": 41,
      "outputs": [
        {
          "output_type": "stream",
          "name": "stdout",
          "text": [
            "Original matrix:\n",
            "[[2 1]\n",
            " [7 4]]\n",
            "\n",
            "Inverse matrix:\n",
            "[[ 4. -1.]\n",
            " [-7.  2.]]\n"
          ]
        }
      ]
    },
    {
      "cell_type": "markdown",
      "source": [
        "**14. What does the np.reshape function do, and how is it used?**\n",
        "\n",
        ">\n",
        "The np.reshape function in NumPy is used to change the shape of an array without changing its data. It returns a new array with a specified shape, and the total number of elements in the reshaped array remains the same as the original array.\n",
        "\n"
      ],
      "metadata": {
        "id": "iWdb9v-FzlSI"
      }
    },
    {
      "cell_type": "code",
      "source": [
        "\n",
        "# Create a 1D array with 12 elements\n",
        "original_array = np.arange(12)\n",
        "print(original_array.ndim)\n",
        "# Reshape the array to a 3x4 matrix\n",
        "reshaped_array = np.reshape(original_array, (3, 4))\n",
        "\n",
        "print(\"Original array:\")\n",
        "print(original_array)\n",
        "\n",
        "print(\"\\nReshaped array:\")\n",
        "print(reshaped_array)\n",
        "print(reshaped_array.ndim)\n"
      ],
      "metadata": {
        "colab": {
          "base_uri": "https://localhost:8080/"
        },
        "id": "hfn-DFR_zp9u",
        "outputId": "6ed2d946-57ab-4956-882e-efc7b5ed2913"
      },
      "execution_count": 43,
      "outputs": [
        {
          "output_type": "stream",
          "name": "stdout",
          "text": [
            "1\n",
            "Original array:\n",
            "[ 0  1  2  3  4  5  6  7  8  9 10 11]\n",
            "\n",
            "Reshaped array:\n",
            "[[ 0  1  2  3]\n",
            " [ 4  5  6  7]\n",
            " [ 8  9 10 11]]\n",
            "2\n"
          ]
        }
      ]
    },
    {
      "cell_type": "markdown",
      "source": [
        "**15. What is broadcasting in Numpy?**\n",
        "\n",
        ">\n",
        "Broadcasting in NumPy is a powerful mechanism that allows arrays of different shapes and sizes to be combined and operated upon together. This is done in a way that makes it possible to perform element-wise operations between arrays of different shapes, without the need for explicit replication of the smaller array to match the shape of the larger one.\n",
        "\n"
      ],
      "metadata": {
        "id": "OHUb4FaH03WB"
      }
    },
    {
      "cell_type": "code",
      "source": [],
      "metadata": {
        "id": "U4bJTTME0Xge"
      },
      "execution_count": null,
      "outputs": []
    }
  ]
}